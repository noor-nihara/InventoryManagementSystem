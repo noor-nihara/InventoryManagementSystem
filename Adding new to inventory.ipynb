{
 "cells": [
  {
   "cell_type": "markdown",
   "id": "b41ca03d",
   "metadata": {},
   "source": [
    "## Read Data from json file\n"
   ]
  },
  {
   "cell_type": "code",
   "execution_count": 2,
   "id": "fde5d775",
   "metadata": {},
   "outputs": [],
   "source": [
    "import json"
   ]
  },
  {
   "cell_type": "code",
   "execution_count": 3,
   "id": "580b6e73",
   "metadata": {},
   "outputs": [],
   "source": [
    "fd = open('record.json','r')\n",
    "r = fd.read()\n",
    "fd.close()\n",
    "\n",
    "record = json.loads(r) "
   ]
  },
  {
   "cell_type": "code",
   "execution_count": 5,
   "id": "49cd417d",
   "metadata": {},
   "outputs": [
    {
     "data": {
      "text/plain": [
       "{'101': {'name': 'ice cream',\n",
       "  'price': 25,\n",
       "  'category': 'snacks',\n",
       "  'exp': 2022,\n",
       "  'qty': 10},\n",
       " '102': {'name': 'kitkat',\n",
       "  'price': 40,\n",
       "  'category': 'snacks',\n",
       "  'exp': 2022,\n",
       "  'qty': 100},\n",
       " '103': {'name': 'dairy milk',\n",
       "  'price': 60,\n",
       "  'category': 'snacks',\n",
       "  'exp': 2022,\n",
       "  'qty': 150},\n",
       " '104': {'name': 'dark choco',\n",
       "  'price': 100,\n",
       "  'category': 'snacks',\n",
       "  'exp': 2022,\n",
       "  'qty': 300},\n",
       " '105': {'name': 'lolipop',\n",
       "  'price': 5,\n",
       "  'category': 'snacks',\n",
       "  'exp': 2022,\n",
       "  'qty': 500}}"
      ]
     },
     "execution_count": 5,
     "metadata": {},
     "output_type": "execute_result"
    }
   ],
   "source": [
    "record"
   ]
  },
  {
   "cell_type": "markdown",
   "id": "0870887b",
   "metadata": {},
   "source": [
    "## Adding new item to inventory"
   ]
  },
  {
   "cell_type": "code",
   "execution_count": 43,
   "id": "1d74582e",
   "metadata": {},
   "outputs": [
    {
     "name": "stdout",
     "output_type": "stream",
     "text": [
      "Enter product id: 130\n",
      "Enter name: harpic\n",
      "Enter price: 500\n",
      "Enter category: clean\n",
      "Enter expiry: 0\n",
      "Enter quantity: 800\n"
     ]
    }
   ],
   "source": [
    "prod_id = int(input(\"Enter product id: \"))\n",
    "name = str(input(\"Enter name: \"))\n",
    "price = int(input(\"Enter price: \"))\n",
    "category = str(input(\"Enter category: \"))\n",
    "exp = int(input(\"Enter expiry: \"))\n",
    "qty = int(input(\"Enter quantity: \"))\n",
    "\n",
    "record[prod_id] = {'name':name, 'price':price, 'category':category, 'exp':exp, 'qty':qty}\n",
    "    \n",
    "js = json.dumps(record)\n",
    "\n",
    "fd = open('record.json','w')\n",
    "fd.write(js)\n",
    "fd.close()"
   ]
  },
  {
   "cell_type": "code",
   "execution_count": 44,
   "id": "1f353973",
   "metadata": {},
   "outputs": [
    {
     "data": {
      "text/plain": [
       "{'101': {'name': 'ice cream',\n",
       "  'price': 25,\n",
       "  'category': 'snacks',\n",
       "  'exp': 2022,\n",
       "  'qty': 10},\n",
       " '102': {'name': 'kitkat',\n",
       "  'price': 40,\n",
       "  'category': 'snacks',\n",
       "  'exp': 2022,\n",
       "  'qty': 100},\n",
       " '103': {'name': 'dairy milk',\n",
       "  'price': 60,\n",
       "  'category': 'snacks',\n",
       "  'exp': 2022,\n",
       "  'qty': 150},\n",
       " '104': {'name': 'dark choco',\n",
       "  'price': 100,\n",
       "  'category': 'snacks',\n",
       "  'exp': 2022,\n",
       "  'qty': 300},\n",
       " '105': {'name': 'lolipop',\n",
       "  'price': 5,\n",
       "  'category': 'snacks',\n",
       "  'exp': 2022,\n",
       "  'qty': 500},\n",
       " 106: {'name': 'pen',\n",
       "  'price': 20,\n",
       "  'category': 'school',\n",
       "  'exp': 0,\n",
       "  'qty': 1000},\n",
       " 107: {'name': 'color pen',\n",
       "  'price': 100,\n",
       "  'category': 'school',\n",
       "  'exp': 0,\n",
       "  'qty': 200},\n",
       " 108: {'name': 'pencil',\n",
       "  'price': 10,\n",
       "  'category': 'school',\n",
       "  'exp': 0,\n",
       "  'qty': 1000},\n",
       " 109: {'name': 'lays red',\n",
       "  'price': 20,\n",
       "  'category': 'snacks',\n",
       "  'exp': 2022,\n",
       "  'qty': 300},\n",
       " 110: {'name': 'lays green',\n",
       "  'price': 20,\n",
       "  'category': 'snacks',\n",
       "  'exp': 2022,\n",
       "  'qty': 400},\n",
       " 111: {'name': 'mic', 'price': 300, 'category': 'ec', 'exp': 0, 'qty': 500},\n",
       " 112: {'name': 'mouse', 'price': 250, 'category': 'ec', 'exp': 0, 'qty': 900},\n",
       " 113: {'name': 'lays yellow',\n",
       "  'price': 20,\n",
       "  'category': 'snacks',\n",
       "  'exp': 2022,\n",
       "  'qty': 400},\n",
       " 114: {'name': 'bread',\n",
       "  'price': 30,\n",
       "  'category': 'food',\n",
       "  'exp': 2022,\n",
       "  'qty': 30},\n",
       " 115: {'name': 'egg',\n",
       "  'price': 10,\n",
       "  'category': 'food',\n",
       "  'exp': 2022,\n",
       "  'qty': 600},\n",
       " 116: {'name': 'butter',\n",
       "  'price': 650,\n",
       "  'category': 'food',\n",
       "  'exp': 2022,\n",
       "  'qty': 800},\n",
       " 117: {'name': 'cheese',\n",
       "  'price': 250,\n",
       "  'category': 'food',\n",
       "  'exp': 2022,\n",
       "  'qty': 900},\n",
       " 118: {'name': 'flour',\n",
       "  'price': 250,\n",
       "  'category': 'food',\n",
       "  'exp': 2022,\n",
       "  'qty': 500},\n",
       " 119: {'name': 'apple',\n",
       "  'price': 250,\n",
       "  'category': 'fruit',\n",
       "  'exp': 2022,\n",
       "  'qty': 350},\n",
       " 120: {'name': 'orange',\n",
       "  'price': 300,\n",
       "  'category': 'fruit',\n",
       "  'exp': 2022,\n",
       "  'qty': 700},\n",
       " 121: {'name': 'anar',\n",
       "  'price': 500,\n",
       "  'category': 'fruit',\n",
       "  'exp': 2022,\n",
       "  'qty': 800},\n",
       " 122: {'name': 'frooti',\n",
       "  'price': 250,\n",
       "  'category': 'drinks',\n",
       "  'exp': 2022,\n",
       "  'qty': 500},\n",
       " 123: {'name': 'pepsi',\n",
       "  'price': 40,\n",
       "  'category': 'drinks',\n",
       "  'exp': 2022,\n",
       "  'qty': 600},\n",
       " 124: {'name': '7up',\n",
       "  'price': 40,\n",
       "  'category': 'drinks',\n",
       "  'exp': 2022,\n",
       "  'qty': 800},\n",
       " 125: {'name': 'coca cola',\n",
       "  'price': 40,\n",
       "  'category': 'drinks',\n",
       "  'exp': 2023,\n",
       "  'qty': 900},\n",
       " 126: {'name': 'nutella',\n",
       "  'price': 500,\n",
       "  'category': 'food',\n",
       "  'exp': 2024,\n",
       "  'qty': 562},\n",
       " 127: {'name': 'jam',\n",
       "  'price': 250,\n",
       "  'category': 'food',\n",
       "  'exp': 2024,\n",
       "  'qty': 255},\n",
       " 128: {'name': 'tissue',\n",
       "  'price': 250,\n",
       "  'category': 'cleaning',\n",
       "  'exp': 0,\n",
       "  'qty': 2000},\n",
       " 129: {'name': 'dettol',\n",
       "  'price': 960,\n",
       "  'category': 'clean',\n",
       "  'exp': 0,\n",
       "  'qty': 250},\n",
       " 130: {'name': 'harpic',\n",
       "  'price': 500,\n",
       "  'category': 'clean',\n",
       "  'exp': 0,\n",
       "  'qty': 800}}"
      ]
     },
     "execution_count": 44,
     "metadata": {},
     "output_type": "execute_result"
    }
   ],
   "source": [
    "record"
   ]
  },
  {
   "cell_type": "code",
   "execution_count": null,
   "id": "0505ac95",
   "metadata": {},
   "outputs": [],
   "source": []
  }
 ],
 "metadata": {
  "kernelspec": {
   "display_name": "Python 3",
   "language": "python",
   "name": "python3"
  },
  "language_info": {
   "codemirror_mode": {
    "name": "ipython",
    "version": 3
   },
   "file_extension": ".py",
   "mimetype": "text/x-python",
   "name": "python",
   "nbconvert_exporter": "python",
   "pygments_lexer": "ipython3",
   "version": "3.8.8"
  }
 },
 "nbformat": 4,
 "nbformat_minor": 5
}
