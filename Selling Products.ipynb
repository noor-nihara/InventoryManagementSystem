{
 "cells": [
  {
   "cell_type": "markdown",
   "id": "5285de08",
   "metadata": {},
   "source": [
    "## Read inventory"
   ]
  },
  {
   "cell_type": "code",
   "execution_count": 1,
   "id": "d8d74dc2",
   "metadata": {},
   "outputs": [],
   "source": [
    "import json"
   ]
  },
  {
   "cell_type": "code",
   "execution_count": 5,
   "id": "f3f1ffc9",
   "metadata": {},
   "outputs": [],
   "source": [
    "fd = open('record.json','r')\n",
    "r = fd.read()\n",
    "fd.close()\n",
    "\n",
    "records = json.loads(r)"
   ]
  },
  {
   "cell_type": "code",
   "execution_count": 6,
   "id": "349fcc59",
   "metadata": {},
   "outputs": [
    {
     "data": {
      "text/plain": [
       "{'101': {'name': 'ice cream',\n",
       "  'price': 25,\n",
       "  'category': 'snacks',\n",
       "  'exp': 2022,\n",
       "  'qty': 10},\n",
       " '102': {'name': 'kitkat',\n",
       "  'price': 40,\n",
       "  'category': 'snacks',\n",
       "  'exp': 2022,\n",
       "  'qty': 100},\n",
       " '103': {'name': 'dairy milk',\n",
       "  'price': 60,\n",
       "  'category': 'snacks',\n",
       "  'exp': 2022,\n",
       "  'qty': 150},\n",
       " '104': {'name': 'dark choco',\n",
       "  'price': 100,\n",
       "  'category': 'snacks',\n",
       "  'exp': 2022,\n",
       "  'qty': 300},\n",
       " '105': {'name': 'lolipop',\n",
       "  'price': 5,\n",
       "  'category': 'snacks',\n",
       "  'exp': 2022,\n",
       "  'qty': 500},\n",
       " '106': {'name': 'pen',\n",
       "  'price': 20,\n",
       "  'category': 'school',\n",
       "  'exp': 0,\n",
       "  'qty': 1000},\n",
       " '107': {'name': 'color pen',\n",
       "  'price': 100,\n",
       "  'category': 'school',\n",
       "  'exp': 0,\n",
       "  'qty': 200},\n",
       " '108': {'name': 'pencil',\n",
       "  'price': 10,\n",
       "  'category': 'school',\n",
       "  'exp': 0,\n",
       "  'qty': 1000},\n",
       " '109': {'name': 'lays red',\n",
       "  'price': 20,\n",
       "  'category': 'snacks',\n",
       "  'exp': 2022,\n",
       "  'qty': 300},\n",
       " '110': {'name': 'lays green',\n",
       "  'price': 20,\n",
       "  'category': 'snacks',\n",
       "  'exp': 2022,\n",
       "  'qty': 400},\n",
       " '111': {'name': 'mic', 'price': 300, 'category': 'ec', 'exp': 0, 'qty': 500},\n",
       " '112': {'name': 'mouse',\n",
       "  'price': 250,\n",
       "  'category': 'ec',\n",
       "  'exp': 0,\n",
       "  'qty': 900},\n",
       " '113': {'name': 'lays yellow',\n",
       "  'price': 20,\n",
       "  'category': 'snacks',\n",
       "  'exp': 2022,\n",
       "  'qty': 400},\n",
       " '114': {'name': 'bread',\n",
       "  'price': 30,\n",
       "  'category': 'food',\n",
       "  'exp': 2022,\n",
       "  'qty': 30},\n",
       " '115': {'name': 'egg',\n",
       "  'price': 10,\n",
       "  'category': 'food',\n",
       "  'exp': 2022,\n",
       "  'qty': 600},\n",
       " '116': {'name': 'butter',\n",
       "  'price': 650,\n",
       "  'category': 'food',\n",
       "  'exp': 2022,\n",
       "  'qty': 800},\n",
       " '117': {'name': 'cheese',\n",
       "  'price': 250,\n",
       "  'category': 'food',\n",
       "  'exp': 2022,\n",
       "  'qty': 900},\n",
       " '118': {'name': 'flour',\n",
       "  'price': 250,\n",
       "  'category': 'food',\n",
       "  'exp': 2022,\n",
       "  'qty': 500},\n",
       " '119': {'name': 'apple',\n",
       "  'price': 250,\n",
       "  'category': 'fruit',\n",
       "  'exp': 2022,\n",
       "  'qty': 350},\n",
       " '120': {'name': 'orange',\n",
       "  'price': 300,\n",
       "  'category': 'fruit',\n",
       "  'exp': 2022,\n",
       "  'qty': 700},\n",
       " '121': {'name': 'anar',\n",
       "  'price': 500,\n",
       "  'category': 'fruit',\n",
       "  'exp': 2022,\n",
       "  'qty': 800},\n",
       " '122': {'name': 'frooti',\n",
       "  'price': 250,\n",
       "  'category': 'drinks',\n",
       "  'exp': 2022,\n",
       "  'qty': 500},\n",
       " '123': {'name': 'pepsi',\n",
       "  'price': 40,\n",
       "  'category': 'drinks',\n",
       "  'exp': 2022,\n",
       "  'qty': 600},\n",
       " '124': {'name': '7up',\n",
       "  'price': 40,\n",
       "  'category': 'drinks',\n",
       "  'exp': 2022,\n",
       "  'qty': 800},\n",
       " '125': {'name': 'coca cola',\n",
       "  'price': 40,\n",
       "  'category': 'drinks',\n",
       "  'exp': 2023,\n",
       "  'qty': 900},\n",
       " '126': {'name': 'nutella',\n",
       "  'price': 500,\n",
       "  'category': 'food',\n",
       "  'exp': 2024,\n",
       "  'qty': 562},\n",
       " '127': {'name': 'jam',\n",
       "  'price': 250,\n",
       "  'category': 'food',\n",
       "  'exp': 2024,\n",
       "  'qty': 255},\n",
       " '128': {'name': 'tissue',\n",
       "  'price': 250,\n",
       "  'category': 'cleaning',\n",
       "  'exp': 0,\n",
       "  'qty': 2000},\n",
       " '129': {'name': 'dettol',\n",
       "  'price': 960,\n",
       "  'category': 'clean',\n",
       "  'exp': 0,\n",
       "  'qty': 250},\n",
       " '130': {'name': 'harpic',\n",
       "  'price': 500,\n",
       "  'category': 'clean',\n",
       "  'exp': 0,\n",
       "  'qty': 800}}"
      ]
     },
     "execution_count": 6,
     "metadata": {},
     "output_type": "execute_result"
    }
   ],
   "source": [
    "records"
   ]
  },
  {
   "cell_type": "markdown",
   "id": "b02d3472",
   "metadata": {},
   "source": [
    "## User inputs"
   ]
  },
  {
   "cell_type": "code",
   "execution_count": 48,
   "id": "3e055583",
   "metadata": {},
   "outputs": [
    {
     "name": "stdout",
     "output_type": "stream",
     "text": [
      "Enter product id: 101\n",
      "Enter quantity: 5\n",
      "Product:  ice cream\n",
      "Price:  25\n",
      "Billing amount:  125\n"
     ]
    }
   ],
   "source": [
    "ui_prod = str(input(\"Enter product id: \"))\n",
    "ui_qty = int(input(\"Enter quantity: \"))\n",
    "\n",
    "print(\"Product: \", records[ui_prod]['name'])\n",
    "print(\"Price: \", records[ui_prod]['price'])\n",
    "print(\"Billing amount: \",records[ui_prod]['price'] * ui_qty)\n",
    "\n",
    "records[ui_prod]['qty'] = records[ui_prod]['qty'] - ui_qty"
   ]
  },
  {
   "cell_type": "markdown",
   "id": "015190d5",
   "metadata": {},
   "source": [
    "## Updating inventory after selling"
   ]
  },
  {
   "cell_type": "code",
   "execution_count": 49,
   "id": "fbb4e9d8",
   "metadata": {},
   "outputs": [],
   "source": [
    "js = json.dumps(records)\n",
    "\n",
    "fd = open('record.json','w')\n",
    "fd.write(js)\n",
    "fd.close()"
   ]
  },
  {
   "cell_type": "code",
   "execution_count": null,
   "id": "b22a49a2",
   "metadata": {},
   "outputs": [],
   "source": []
  },
  {
   "cell_type": "markdown",
   "id": "ca2f87fe",
   "metadata": {},
   "source": [
    "# Sales JSON"
   ]
  },
  {
   "cell_type": "code",
   "execution_count": 50,
   "id": "61dc7274",
   "metadata": {},
   "outputs": [
    {
     "data": {
      "text/plain": [
       "{'product': '101', 'amount': 125, 'quantity': 5}"
      ]
     },
     "execution_count": 50,
     "metadata": {},
     "output_type": "execute_result"
    }
   ],
   "source": [
    "{'product':ui_prod, 'amount':records[ui_prod]['price'] * ui_qty, 'quantity':ui_qty}"
   ]
  },
  {
   "cell_type": "code",
   "execution_count": 51,
   "id": "5ea2f421",
   "metadata": {},
   "outputs": [],
   "source": [
    "sales = { 1 : {'product':ui_prod, 'amount':records[ui_prod]['price'] * ui_qty, 'quantity':ui_qty},\n",
    "          2 : {'product':ui_prod, 'amount':records[ui_prod]['price'] * ui_qty, 'quantity':ui_qty},\n",
    "          3 : {'product':ui_prod, 'amount':records[ui_prod]['price'] * ui_qty, 'quantity':ui_qty}}"
   ]
  },
  {
   "cell_type": "code",
   "execution_count": 52,
   "id": "4f14eca8",
   "metadata": {},
   "outputs": [],
   "source": [
    "sale = json.dumps(sales)\n",
    "\n",
    "fd = open('sales.json','w')\n",
    "fd.write(sale)\n",
    "fd.close()"
   ]
  },
  {
   "cell_type": "code",
   "execution_count": 53,
   "id": "260b990e",
   "metadata": {},
   "outputs": [
    {
     "data": {
      "text/plain": [
       "{1: {'product': '101', 'amount': 125, 'quantity': 5},\n",
       " 2: {'product': '101', 'amount': 125, 'quantity': 5},\n",
       " 3: {'product': '101', 'amount': 125, 'quantity': 5}}"
      ]
     },
     "execution_count": 53,
     "metadata": {},
     "output_type": "execute_result"
    }
   ],
   "source": [
    "sales"
   ]
  },
  {
   "cell_type": "code",
   "execution_count": 54,
   "id": "85027ae8",
   "metadata": {},
   "outputs": [
    {
     "data": {
      "text/plain": [
       "{4: {'product': '101', 'amount': 125, 'quantity': 5}}"
      ]
     },
     "execution_count": 54,
     "metadata": {},
     "output_type": "execute_result"
    }
   ],
   "source": [
    "{(len(sales) + 1) : {'product':ui_prod, 'amount':records[ui_prod]['price'] * ui_qty, 'quantity':ui_qty}}"
   ]
  },
  {
   "cell_type": "code",
   "execution_count": 55,
   "id": "9522f396",
   "metadata": {},
   "outputs": [],
   "source": [
    "sales[(len(sales) +1)] = {'product':ui_prod, 'amount':records[ui_prod]['price'] * ui_qty, 'quantity':ui_qty}"
   ]
  },
  {
   "cell_type": "code",
   "execution_count": 56,
   "id": "16316f9d",
   "metadata": {},
   "outputs": [
    {
     "data": {
      "text/plain": [
       "{1: {'product': '101', 'amount': 125, 'quantity': 5},\n",
       " 2: {'product': '101', 'amount': 125, 'quantity': 5},\n",
       " 3: {'product': '101', 'amount': 125, 'quantity': 5},\n",
       " 4: {'product': '101', 'amount': 125, 'quantity': 5}}"
      ]
     },
     "execution_count": 56,
     "metadata": {},
     "output_type": "execute_result"
    }
   ],
   "source": [
    "sales"
   ]
  },
  {
   "cell_type": "code",
   "execution_count": null,
   "id": "78e35d01",
   "metadata": {},
   "outputs": [],
   "source": []
  }
 ],
 "metadata": {
  "kernelspec": {
   "display_name": "Python 3",
   "language": "python",
   "name": "python3"
  },
  "language_info": {
   "codemirror_mode": {
    "name": "ipython",
    "version": 3
   },
   "file_extension": ".py",
   "mimetype": "text/x-python",
   "name": "python",
   "nbconvert_exporter": "python",
   "pygments_lexer": "ipython3",
   "version": "3.8.8"
  }
 },
 "nbformat": 4,
 "nbformat_minor": 5
}
